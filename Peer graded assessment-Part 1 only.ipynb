{
 "cells": [
  {
   "cell_type": "markdown",
   "metadata": {},
   "source": [
    "First step is to import the relevant pandas package and load the wiki(HTML) data.\n",
    "To obtain the proper columns only we have to slice tables as tables[0]"
   ]
  },
  {
   "cell_type": "code",
   "execution_count": 3,
   "metadata": {},
   "outputs": [],
   "source": [
    "import pandas as pd\n",
    "tables=pd.read_html('https://en.wikipedia.org/wiki/List_of_postal_codes_of_Canada:_M')\n",
    "df=pd.DataFrame(tables[0])"
   ]
  },
  {
   "cell_type": "code",
   "execution_count": 4,
   "metadata": {},
   "outputs": [
    {
     "name": "stdout",
     "output_type": "stream",
     "text": [
      "    Postcode           Borough          Neighbourhood\n",
      "0        M1A      Not assigned           Not assigned\n",
      "1        M2A      Not assigned           Not assigned\n",
      "2        M3A        North York              Parkwoods\n",
      "3        M4A        North York       Victoria Village\n",
      "4        M5A  Downtown Toronto           Harbourfront\n",
      "..       ...               ...                    ...\n",
      "283      M8Z         Etobicoke              Mimico NW\n",
      "284      M8Z         Etobicoke     The Queensway West\n",
      "285      M8Z         Etobicoke  Royal York South West\n",
      "286      M8Z         Etobicoke         South of Bloor\n",
      "287      M9Z      Not assigned           Not assigned\n",
      "\n",
      "[288 rows x 3 columns]\n"
     ]
    }
   ],
   "source": [
    "print(df)"
   ]
  },
  {
   "cell_type": "markdown",
   "metadata": {},
   "source": [
    "Next we have to select only the rows in the dataframe which have a value in the \"Borough' column which is unequal to \"Not assigned\". The remaining rows are included in dataframe df2"
   ]
  },
  {
   "cell_type": "code",
   "execution_count": 5,
   "metadata": {},
   "outputs": [
    {
     "name": "stdout",
     "output_type": "stream",
     "text": [
      "    Postcode           Borough             Neighbourhood\n",
      "2        M3A        North York                 Parkwoods\n",
      "3        M4A        North York          Victoria Village\n",
      "4        M5A  Downtown Toronto              Harbourfront\n",
      "5        M5A  Downtown Toronto               Regent Park\n",
      "6        M6A        North York          Lawrence Heights\n",
      "..       ...               ...                       ...\n",
      "282      M8Z         Etobicoke  Kingsway Park South West\n",
      "283      M8Z         Etobicoke                 Mimico NW\n",
      "284      M8Z         Etobicoke        The Queensway West\n",
      "285      M8Z         Etobicoke     Royal York South West\n",
      "286      M8Z         Etobicoke            South of Bloor\n",
      "\n",
      "[211 rows x 3 columns]\n"
     ]
    }
   ],
   "source": [
    "df2=df[df['Borough'] != \"Not assigned\"]\n",
    "print(df2)"
   ]
  },
  {
   "cell_type": "markdown",
   "metadata": {},
   "source": [
    "After this we have to eliminate the double items in (combined) 'Postcode' and 'Borough' columns. The neighbourhood items are combined and seperated by a ','.   "
   ]
  },
  {
   "cell_type": "code",
   "execution_count": 6,
   "metadata": {},
   "outputs": [],
   "source": [
    "df3=df2.groupby(['Postcode','Borough'])['Neighbourhood'].apply(','.join).reset_index()"
   ]
  },
  {
   "cell_type": "markdown",
   "metadata": {},
   "source": [
    "Next we have identify the 'Not assigned' rows in the \"Neighbourhood' column. These need to be replaced with the value in the 'Borough' column. As seen below this involves only 1 item, which is replaced by the related 'Borough' field contents."
   ]
  },
  {
   "cell_type": "code",
   "execution_count": 7,
   "metadata": {},
   "outputs": [
    {
     "name": "stdout",
     "output_type": "stream",
     "text": [
      "   Postcode       Borough Neighbourhood\n",
      "85      M7A  Queen's Park  Not assigned\n"
     ]
    }
   ],
   "source": [
    "print(df3[df3['Neighbourhood']=='Not assigned'])"
   ]
  },
  {
   "cell_type": "code",
   "execution_count": 8,
   "metadata": {},
   "outputs": [],
   "source": [
    "df3['Neighbourhood']=df3['Neighbourhood'].str.replace(\"Not assigned\",\"Queen's Park\")"
   ]
  },
  {
   "cell_type": "code",
   "execution_count": 9,
   "metadata": {},
   "outputs": [
    {
     "name": "stdout",
     "output_type": "stream",
     "text": [
      "    Postcode      Borough                                      Neighbourhood\n",
      "0        M1B  Scarborough                                      Rouge,Malvern\n",
      "1        M1C  Scarborough               Highland Creek,Rouge Hill,Port Union\n",
      "2        M1E  Scarborough                    Guildwood,Morningside,West Hill\n",
      "3        M1G  Scarborough                                             Woburn\n",
      "4        M1H  Scarborough                                          Cedarbrae\n",
      "..       ...          ...                                                ...\n",
      "98       M9N         York                                             Weston\n",
      "99       M9P    Etobicoke                                          Westmount\n",
      "100      M9R    Etobicoke  Kingsview Village,Martin Grove Gardens,Richvie...\n",
      "101      M9V    Etobicoke  Albion Gardens,Beaumond Heights,Humbergate,Jam...\n",
      "102      M9W    Etobicoke                                          Northwest\n",
      "\n",
      "[103 rows x 3 columns]\n"
     ]
    }
   ],
   "source": [
    "print(df3)"
   ]
  },
  {
   "cell_type": "markdown",
   "metadata": {},
   "source": [
    "Using the shape method we see that there are 103 rows remaining in the dataset after all transformations have been performed"
   ]
  },
  {
   "cell_type": "code",
   "execution_count": 10,
   "metadata": {},
   "outputs": [
    {
     "data": {
      "text/plain": [
       "(103, 3)"
      ]
     },
     "execution_count": 10,
     "metadata": {},
     "output_type": "execute_result"
    }
   ],
   "source": [
    "df3.shape"
   ]
  },
  {
   "cell_type": "markdown",
   "metadata": {},
   "source": [
    "The next part of the assignment is to load the geospatial dataset and merge with the wiki dataset(df3).\n",
    "First step is to load the csv and transform to dataframe."
   ]
  },
  {
   "cell_type": "markdown",
   "metadata": {},
   "source": [
    "After the merging of the 2 dataframes we check that we have the same number of rows left from df3 which is indeed the case (103 rows before and after merging). We drop the 'Postal Code' column as the values are the same as the 'Postcode' column."
   ]
  }
 ],
 "metadata": {
  "kernelspec": {
   "display_name": "Python 3",
   "language": "python",
   "name": "python3"
  },
  "language_info": {
   "codemirror_mode": {
    "name": "ipython",
    "version": 3
   },
   "file_extension": ".py",
   "mimetype": "text/x-python",
   "name": "python",
   "nbconvert_exporter": "python",
   "pygments_lexer": "ipython3",
   "version": "3.7.3"
  }
 },
 "nbformat": 4,
 "nbformat_minor": 2
}
